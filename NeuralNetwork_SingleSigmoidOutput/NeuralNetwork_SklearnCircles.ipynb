{
 "cells": [
  {
   "cell_type": "code",
   "execution_count": 1,
   "metadata": {},
   "outputs": [],
   "source": [
    "import sklearn.datasets\n",
    "import sklearn.model_selection\n",
    "import matplotlib.pyplot as plt\n",
    "import numpy as np\n",
    "import neuralnet as nn"
   ]
  },
  {
   "cell_type": "code",
   "execution_count": 2,
   "metadata": {},
   "outputs": [],
   "source": [
    "X, y = sklearn.datasets.make_circles(n_samples=1000)\n",
    "X_train, X_test, y_train, y_test = sklearn.model_selection.train_test_split(X, y, test_size=0.3)"
   ]
  },
  {
   "cell_type": "code",
   "execution_count": 3,
   "metadata": {},
   "outputs": [],
   "source": [
    "X_train = X_train.T\n",
    "X_test = X_test.T\n",
    "y_train = y_train.T.reshape(1, -1)\n",
    "y_test = y_test.T.reshape(1, -1)"
   ]
  },
  {
   "cell_type": "code",
   "execution_count": 4,
   "metadata": {},
   "outputs": [
    {
     "name": "stdout",
     "output_type": "stream",
     "text": [
      "iteration = 1 ; cost = 0.7486696581971697 ; accuracy = 49.714285714285715%\n",
      "iteration = 101 ; cost = 0.6109563228730914 ; accuracy = 77.14285714285714%\n",
      "iteration = 201 ; cost = 0.38354603995239844 ; accuracy = 100.0%\n",
      "iteration = 301 ; cost = 0.21542136237845239 ; accuracy = 100.0%\n",
      "iteration = 401 ; cost = 0.14167063515206715 ; accuracy = 100.0%\n",
      "iteration = 501 ; cost = 0.10419022045511726 ; accuracy = 100.0%\n",
      "iteration = 601 ; cost = 0.0820350106685638 ; accuracy = 100.0%\n",
      "iteration = 701 ; cost = 0.06762216423453067 ; accuracy = 100.0%\n",
      "iteration = 801 ; cost = 0.057534341416473234 ; accuracy = 100.0%\n",
      "iteration = 901 ; cost = 0.050088800349187265 ; accuracy = 100.0%\n"
     ]
    }
   ],
   "source": [
    "model = nn.Network(2)\n",
    "model.add_layer(4, activation_name=\"lrelu\")\n",
    "model.add_layer(1, activation_name=\"sigmoid\")\n",
    "model.train(X_train, y_train)"
   ]
  },
  {
   "cell_type": "code",
   "execution_count": 5,
   "metadata": {},
   "outputs": [
    {
     "name": "stdout",
     "output_type": "stream",
     "text": [
      "cost = 0.048111634102529985 ; accuracy = 100.0%\n"
     ]
    }
   ],
   "source": [
    "model.test(X_test, y_test)"
   ]
  },
  {
   "cell_type": "code",
   "execution_count": 6,
   "metadata": {},
   "outputs": [
    {
     "data": {
      "text/plain": [
       "[<matplotlib.lines.Line2D at 0x2756790f550>]"
      ]
     },
     "execution_count": 6,
     "metadata": {},
     "output_type": "execute_result"
    },
    {
     "data": {
      "image/png": "[encoded data removed]",
      "text/plain": [
       "<Figure size 432x288 with 1 Axes>"
      ]
     },
     "metadata": {
      "needs_background": "light"
     },
     "output_type": "display_data"
    }
   ],
   "source": [
    "plt.plot(model.cost_history)"
   ]
  },
  {
   "cell_type": "code",
   "execution_count": null,
   "metadata": {},
   "outputs": [],
   "source": []
  }
 ],
 "metadata": {
  "kernelspec": {
   "display_name": "Python 3",
   "language": "python",
   "name": "python3"
  },
  "language_info": {
   "codemirror_mode": {
    "name": "ipython",
    "version": 3
   },
   "file_extension": ".py",
   "mimetype": "text/x-python",
   "name": "python",
   "nbconvert_exporter": "python",
   "pygments_lexer": "ipython3",
   "version": "3.8.5"
  }
 },
 "nbformat": 4,
 "nbformat_minor": 4
}
