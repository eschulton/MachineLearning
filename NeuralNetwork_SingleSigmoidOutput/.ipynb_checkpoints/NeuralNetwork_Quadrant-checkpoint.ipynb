{
 "cells": [
  {
   "cell_type": "code",
   "execution_count": 1,
   "metadata": {},
   "outputs": [],
   "source": [
    "import numpy as np\n",
    "import neuralnet as nn\n",
    "import matplotlib.pyplot as plt"
   ]
  },
  {
   "cell_type": "code",
   "execution_count": 2,
   "metadata": {},
   "outputs": [],
   "source": [
    "X = np.random.randn(2, 1000)"
   ]
  },
  {
   "cell_type": "code",
   "execution_count": 3,
   "metadata": {},
   "outputs": [],
   "source": [
    "Y = np.zeros((1, 1000))"
   ]
  },
  {
   "cell_type": "code",
   "execution_count": 4,
   "metadata": {},
   "outputs": [],
   "source": [
    "for i in range(1000):\n",
    "    if X[0,i] > 0.0 and X[1,i] < 0.0: # 4th quadrant\n",
    "        Y[0,i] = 1.0\n",
    "    elif X[0,i] < 0.0 and X[1,i] > 0.0: #2nd quadrant\n",
    "        Y[0,i] = 1.0\n",
    "    else:\n",
    "        Y[0,i] = 0.0 # 1st and 3rd quadrants"
   ]
  },
  {
   "cell_type": "code",
   "execution_count": 5,
   "metadata": {
    "scrolled": true
   },
   "outputs": [
    {
     "name": "stdout",
     "output_type": "stream",
     "text": [
      "iteration = 1 ; cost = 0.6723958074020553 ; accuracy = 52.400000000000006%\n",
      "iteration = 101 ; cost = 0.2544661835837477 ; accuracy = 94.5%\n",
      "iteration = 201 ; cost = 0.15468437315067943 ; accuracy = 96.1%\n",
      "iteration = 301 ; cost = 0.13150036294947748 ; accuracy = 96.89999999999999%\n",
      "iteration = 401 ; cost = 0.12190527658077878 ; accuracy = 97.39999999999999%\n",
      "iteration = 501 ; cost = 0.11712757582705922 ; accuracy = 97.5%\n",
      "iteration = 601 ; cost = 0.11447008185637905 ; accuracy = 97.8%\n",
      "iteration = 701 ; cost = 0.1128774874334576 ; accuracy = 97.89999999999999%\n",
      "iteration = 801 ; cost = 0.11190340259012949 ; accuracy = 98.0%\n",
      "iteration = 901 ; cost = 0.11129691789331346 ; accuracy = 98.0%\n"
     ]
    }
   ],
   "source": [
    "model = nn.Network(num_inputs=2, lmbda=0.5)\n",
    "model.add_layer(3, 'relu')\n",
    "model.add_layer(1, 'sigmoid')\n",
    "model.train(X, Y)"
   ]
  },
  {
   "cell_type": "code",
   "execution_count": 6,
   "metadata": {},
   "outputs": [
    {
     "data": {
      "text/plain": [
       "[<matplotlib.lines.Line2D at 0x2a0b234d580>]"
      ]
     },
     "execution_count": 6,
     "metadata": {},
     "output_type": "execute_result"
    },
    {
     "data": {
      "image/png": "[encoded data removed]",
      "text/plain": [
       "<Figure size 432x288 with 1 Axes>"
      ]
     },
     "metadata": {
      "needs_background": "light"
     },
     "output_type": "display_data"
    }
   ],
   "source": [
    "plt.plot(model.cost_history)"
   ]
  }
 ],
 "metadata": {
  "kernelspec": {
   "display_name": "Python 3",
   "language": "python",
   "name": "python3"
  },
  "language_info": {
   "codemirror_mode": {
    "name": "ipython",
    "version": 3
   },
   "file_extension": ".py",
   "mimetype": "text/x-python",
   "name": "python",
   "nbconvert_exporter": "python",
   "pygments_lexer": "ipython3",
   "version": "3.8.5"
  }
 },
 "nbformat": 4,
 "nbformat_minor": 4
}
