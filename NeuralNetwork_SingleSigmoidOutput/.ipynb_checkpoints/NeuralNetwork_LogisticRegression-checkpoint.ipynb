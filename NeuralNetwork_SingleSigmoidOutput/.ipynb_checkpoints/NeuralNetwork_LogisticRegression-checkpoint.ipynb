{
 "cells": [
  {
   "cell_type": "code",
   "execution_count": 1,
   "metadata": {},
   "outputs": [],
   "source": [
    "import numpy as np\n",
    "import neuralnet as nn\n",
    "import matplotlib.pyplot as plt"
   ]
  },
  {
   "cell_type": "code",
   "execution_count": 2,
   "metadata": {},
   "outputs": [],
   "source": [
    "X = np.random.randn(5, 1000)\n",
    "T = np.array([[1, 2, 3, 4, 5]])\n",
    "Y = (np.dot(T, X) > 0.0) * 1.0"
   ]
  },
  {
   "cell_type": "code",
   "execution_count": 3,
   "metadata": {},
   "outputs": [
    {
     "name": "stdout",
     "output_type": "stream",
     "text": [
      "iteration = 1 ; cost = 0.9335163167338385 ; accuracy = 46.5%\n",
      "iteration = 101 ; cost = 0.11697565885260429 ; accuracy = 99.5%\n",
      "iteration = 201 ; cost = 0.09691353764930258 ; accuracy = 99.5%\n",
      "iteration = 301 ; cost = 0.08924949510979596 ; accuracy = 99.6%\n",
      "iteration = 401 ; cost = 0.08539256336273679 ; accuracy = 99.6%\n",
      "iteration = 501 ; cost = 0.08319637592242599 ; accuracy = 99.6%\n",
      "iteration = 601 ; cost = 0.08185466870333485 ; accuracy = 99.6%\n",
      "iteration = 701 ; cost = 0.08099709748958724 ; accuracy = 99.6%\n",
      "iteration = 801 ; cost = 0.0804315940995678 ; accuracy = 99.6%\n",
      "iteration = 901 ; cost = 0.08005015193174189 ; accuracy = 99.6%\n"
     ]
    },
    {
     "data": {
      "text/plain": [
       "array([[1.4404977 , 2.52116282, 4.22498188, 5.32822292, 6.58607773]])"
      ]
     },
     "execution_count": 3,
     "metadata": {},
     "output_type": "execute_result"
    }
   ],
   "source": [
    "model = nn.Network(num_inputs=5)\n",
    "model.add_layer(1, 'sigmoid')\n",
    "model.train(X, Y)\n",
    "model.layers[1].W"
   ]
  },
  {
   "cell_type": "code",
   "execution_count": 4,
   "metadata": {},
   "outputs": [
    {
     "data": {
      "text/plain": [
       "[<matplotlib.lines.Line2D at 0x21eb8f8f970>]"
      ]
     },
     "execution_count": 4,
     "metadata": {},
     "output_type": "execute_result"
    },
    {
     "data": {
      "image/png": "[encoded data removed]",
      "text/plain": [
       "<Figure size 432x288 with 1 Axes>"
      ]
     },
     "metadata": {
      "needs_background": "light"
     },
     "output_type": "display_data"
    }
   ],
   "source": [
    "plt.plot(model.cost_history)"
   ]
  },
  {
   "cell_type": "code",
   "execution_count": null,
   "metadata": {},
   "outputs": [],
   "source": []
  }
 ],
 "metadata": {
  "kernelspec": {
   "display_name": "Python 3",
   "language": "python",
   "name": "python3"
  },
  "language_info": {
   "codemirror_mode": {
    "name": "ipython",
    "version": 3
   },
   "file_extension": ".py",
   "mimetype": "text/x-python",
   "name": "python",
   "nbconvert_exporter": "python",
   "pygments_lexer": "ipython3",
   "version": "3.8.5"
  }
 },
 "nbformat": 4,
 "nbformat_minor": 4
}
