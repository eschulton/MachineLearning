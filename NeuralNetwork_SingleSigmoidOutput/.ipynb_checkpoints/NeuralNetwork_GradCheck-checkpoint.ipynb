{
 "cells": [
  {
   "cell_type": "code",
   "execution_count": 1,
   "metadata": {},
   "outputs": [],
   "source": [
    "import numpy as np\n",
    "import neuralnet as nn"
   ]
  },
  {
   "cell_type": "code",
   "execution_count": 2,
   "metadata": {},
   "outputs": [
    {
     "name": "stdout",
     "output_type": "stream",
     "text": [
      "Network ; num_inputs = 5 ; learning_rate = 1.0 ; initialization_factor = 1.0\n",
      "..... Layer ; nodes = 5 ; activation_name = None\n",
      "..... Layer ; nodes = 4 ; activation_name = None\n",
      "..... Layer ; nodes = 4 ; activation_name = None\n",
      "..... Layer ; nodes = 1 ; activation_name = None\n",
      "\n"
     ]
    }
   ],
   "source": [
    "model = nn.Network(5, lmbda=0.5)\n",
    "model.add_layer(nodes=4, activation_name=\"relu\")\n",
    "model.add_layer(nodes=4, activation_name=\"relu\")\n",
    "model.add_layer(nodes=1, activation_name=\"sigmoid\")\n",
    "print(model)"
   ]
  },
  {
   "cell_type": "code",
   "execution_count": 3,
   "metadata": {},
   "outputs": [
    {
     "name": "stdout",
     "output_type": "stream",
     "text": [
      "grad check passed ; difference = 3.266502761782179e-09\n"
     ]
    }
   ],
   "source": [
    "model.grad_check()"
   ]
  }
 ],
 "metadata": {
  "kernelspec": {
   "display_name": "Python 3",
   "language": "python",
   "name": "python3"
  },
  "language_info": {
   "codemirror_mode": {
    "name": "ipython",
    "version": 3
   },
   "file_extension": ".py",
   "mimetype": "text/x-python",
   "name": "python",
   "nbconvert_exporter": "python",
   "pygments_lexer": "ipython3",
   "version": "3.8.5"
  }
 },
 "nbformat": 4,
 "nbformat_minor": 4
}
