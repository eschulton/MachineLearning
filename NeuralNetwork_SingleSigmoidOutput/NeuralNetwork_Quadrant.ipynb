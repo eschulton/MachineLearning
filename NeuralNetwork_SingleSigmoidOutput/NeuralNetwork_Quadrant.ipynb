{
 "cells": [
  {
   "cell_type": "code",
   "execution_count": 1,
   "metadata": {},
   "outputs": [],
   "source": [
    "import numpy as np\n",
    "import neuralnet as nn\n",
    "import matplotlib.pyplot as plt"
   ]
  },
  {
   "cell_type": "code",
   "execution_count": 2,
   "metadata": {},
   "outputs": [],
   "source": [
    "X = np.random.randn(2, 1000)"
   ]
  },
  {
   "cell_type": "code",
   "execution_count": 3,
   "metadata": {},
   "outputs": [],
   "source": [
    "Y = np.zeros((1, 1000))"
   ]
  },
  {
   "cell_type": "code",
   "execution_count": 4,
   "metadata": {},
   "outputs": [],
   "source": [
    "for i in range(1000):\n",
    "    if X[0,i] > 0.0 and X[1,i] < 0.0: # 4th quadrant\n",
    "        Y[0,i] = 1.0\n",
    "    elif X[0,i] < 0.0 and X[1,i] > 0.0: #2nd quadrant\n",
    "        Y[0,i] = 1.0\n",
    "    else:\n",
    "        Y[0,i] = 0.0 # 1st and 3rd quadrants"
   ]
  },
  {
   "cell_type": "code",
   "execution_count": 5,
   "metadata": {
    "scrolled": true
   },
   "outputs": [
    {
     "name": "stdout",
     "output_type": "stream",
     "text": [
      "iteration = 1 ; cost = 0.7658525508683427 ; accuracy = 52.9%\n",
      "iteration = 101 ; cost = 0.17877676940179452 ; accuracy = 95.0%\n",
      "iteration = 201 ; cost = 0.12001326845420864 ; accuracy = 96.3%\n",
      "iteration = 301 ; cost = 0.09557352249839839 ; accuracy = 97.2%\n",
      "iteration = 401 ; cost = 0.08144755988162788 ; accuracy = 97.6%\n",
      "iteration = 501 ; cost = 0.07194278329787021 ; accuracy = 97.9%\n",
      "iteration = 601 ; cost = 0.06505467218705871 ; accuracy = 98.1%\n",
      "iteration = 701 ; cost = 0.0596872724093688 ; accuracy = 98.3%\n",
      "iteration = 801 ; cost = 0.05552137556942415 ; accuracy = 98.4%\n",
      "iteration = 901 ; cost = 0.05213247438169761 ; accuracy = 98.4%\n"
     ]
    }
   ],
   "source": [
    "model = nn.Network(num_inputs=2)\n",
    "model.add_layer(3, 'relu')\n",
    "model.add_layer(1, 'sigmoid')\n",
    "model.train(X, Y)"
   ]
  },
  {
   "cell_type": "code",
   "execution_count": 6,
   "metadata": {},
   "outputs": [
    {
     "data": {
      "text/plain": [
       "[<matplotlib.lines.Line2D at 0x1a1304e03d0>]"
      ]
     },
     "execution_count": 6,
     "metadata": {},
     "output_type": "execute_result"
    },
    {
     "data": {
      "image/png": "[encoded data removed]",
      "text/plain": [
       "<Figure size 432x288 with 1 Axes>"
      ]
     },
     "metadata": {
      "needs_background": "light"
     },
     "output_type": "display_data"
    }
   ],
   "source": [
    "plt.plot(model.cost_history)"
   ]
  }
 ],
 "metadata": {
  "kernelspec": {
   "display_name": "Python 3",
   "language": "python",
   "name": "python3"
  },
  "language_info": {
   "codemirror_mode": {
    "name": "ipython",
    "version": 3
   },
   "file_extension": ".py",
   "mimetype": "text/x-python",
   "name": "python",
   "nbconvert_exporter": "python",
   "pygments_lexer": "ipython3",
   "version": "3.8.5"
  }
 },
 "nbformat": 4,
 "nbformat_minor": 4
}
